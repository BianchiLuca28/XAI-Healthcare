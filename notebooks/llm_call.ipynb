{
  "cells": [
    {
      "cell_type": "markdown",
      "metadata": {
        "id": "view-in-github",
        "colab_type": "text"
      },
      "source": [
        "<a href=\"https://colab.research.google.com/github/BianchiLuca28/XAI-Healthcare/blob/main/notebooks/llm_call.ipynb\" target=\"_parent\"><img src=\"https://colab.research.google.com/assets/colab-badge.svg\" alt=\"Open In Colab\"/></a>"
      ]
    },
    {
      "cell_type": "markdown",
      "source": [
        "# Imports and setup"
      ],
      "metadata": {
        "id": "3CHg8fKs3xL2"
      }
    },
    {
      "cell_type": "code",
      "source": [
        "!pip install python-dotenv groq"
      ],
      "metadata": {
        "id": "vwLljSRv30L5",
        "outputId": "81c236d0-af69-4a61-cf39-7cf746b89e11",
        "colab": {
          "base_uri": "https://localhost:8080/"
        }
      },
      "execution_count": 26,
      "outputs": [
        {
          "output_type": "stream",
          "name": "stdout",
          "text": [
            "Requirement already satisfied: python-dotenv in /usr/local/lib/python3.11/dist-packages (1.0.1)\n",
            "Collecting groq\n",
            "  Downloading groq-0.15.0-py3-none-any.whl.metadata (14 kB)\n",
            "Requirement already satisfied: anyio<5,>=3.5.0 in /usr/local/lib/python3.11/dist-packages (from groq) (3.7.1)\n",
            "Requirement already satisfied: distro<2,>=1.7.0 in /usr/local/lib/python3.11/dist-packages (from groq) (1.9.0)\n",
            "Requirement already satisfied: httpx<1,>=0.23.0 in /usr/local/lib/python3.11/dist-packages (from groq) (0.28.1)\n",
            "Requirement already satisfied: pydantic<3,>=1.9.0 in /usr/local/lib/python3.11/dist-packages (from groq) (2.10.6)\n",
            "Requirement already satisfied: sniffio in /usr/local/lib/python3.11/dist-packages (from groq) (1.3.1)\n",
            "Requirement already satisfied: typing-extensions<5,>=4.10 in /usr/local/lib/python3.11/dist-packages (from groq) (4.12.2)\n",
            "Requirement already satisfied: idna>=2.8 in /usr/local/lib/python3.11/dist-packages (from anyio<5,>=3.5.0->groq) (3.10)\n",
            "Requirement already satisfied: certifi in /usr/local/lib/python3.11/dist-packages (from httpx<1,>=0.23.0->groq) (2024.12.14)\n",
            "Requirement already satisfied: httpcore==1.* in /usr/local/lib/python3.11/dist-packages (from httpx<1,>=0.23.0->groq) (1.0.7)\n",
            "Requirement already satisfied: h11<0.15,>=0.13 in /usr/local/lib/python3.11/dist-packages (from httpcore==1.*->httpx<1,>=0.23.0->groq) (0.14.0)\n",
            "Requirement already satisfied: annotated-types>=0.6.0 in /usr/local/lib/python3.11/dist-packages (from pydantic<3,>=1.9.0->groq) (0.7.0)\n",
            "Requirement already satisfied: pydantic-core==2.27.2 in /usr/local/lib/python3.11/dist-packages (from pydantic<3,>=1.9.0->groq) (2.27.2)\n",
            "Downloading groq-0.15.0-py3-none-any.whl (109 kB)\n",
            "\u001b[2K   \u001b[90m━━━━━━━━━━━━━━━━━━━━━━━━━━━━━━━━━━━━━━━━\u001b[0m \u001b[32m109.6/109.6 kB\u001b[0m \u001b[31m2.7 MB/s\u001b[0m eta \u001b[36m0:00:00\u001b[0m\n",
            "\u001b[?25hInstalling collected packages: groq\n",
            "Successfully installed groq-0.15.0\n"
          ]
        }
      ]
    },
    {
      "cell_type": "code",
      "execution_count": 27,
      "metadata": {
        "id": "zRNOWG7Ez6i9"
      },
      "outputs": [],
      "source": [
        "from dotenv import load_dotenv\n",
        "import os\n",
        "import requests\n",
        "from groq import Groq"
      ]
    },
    {
      "cell_type": "markdown",
      "metadata": {
        "id": "ymWTkQOBz6jA"
      },
      "source": [
        "# Setting up LLM"
      ]
    },
    {
      "cell_type": "code",
      "execution_count": 35,
      "metadata": {
        "id": "XmU1CJu3z6jC"
      },
      "outputs": [],
      "source": [
        "def llm(query, token, model):\n",
        "    \"\"\"\n",
        "    Query an LLM using the Hugging Face Inference API.\n",
        "\n",
        "    Parameters:\n",
        "        query (str): The input query.\n",
        "        token (str): Hugging Face API token.\n",
        "        model (str): Model.\n",
        "\n",
        "    Returns:\n",
        "        str: Generated response from the LLM.\n",
        "    \"\"\"\n",
        "    parameters = {\n",
        "        \"max_new_tokens\": 1000,\n",
        "        \"temperature\": 0.1,\n",
        "        \"top_k\": 50,\n",
        "        \"top_p\": 0.95,\n",
        "        \"return_full_text\": False\n",
        "    }\n",
        "\n",
        "    headers = {\n",
        "        'Authorization': f'Bearer {token}',\n",
        "        'Content-Type': 'application/json'\n",
        "    }\n",
        "\n",
        "    payload = {\n",
        "        \"inputs\": query,\n",
        "        \"parameters\": parameters\n",
        "    }\n",
        "\n",
        "    response = requests.post(f\"https://api-inference.huggingface.co/models/{model}\", headers=headers, json=payload)\n",
        "\n",
        "    if response.status_code != 200:\n",
        "        raise Exception(f\"API request failed with status {response.status_code}: {response.text}\")\n",
        "\n",
        "    return response.json()[0].get('generated_text', '').strip()"
      ]
    },
    {
      "cell_type": "code",
      "execution_count": 29,
      "metadata": {
        "id": "PbcpnLp7z6jE",
        "outputId": "e9da4075-c961-466f-96b5-9b3b5400fa85",
        "colab": {
          "base_uri": "https://localhost:8080/"
        }
      },
      "outputs": [
        {
          "output_type": "execute_result",
          "data": {
            "text/plain": [
              "False"
            ]
          },
          "metadata": {},
          "execution_count": 29
        }
      ],
      "source": [
        "load_dotenv()"
      ]
    },
    {
      "cell_type": "code",
      "execution_count": 30,
      "metadata": {
        "id": "NosjCFS6z6jE"
      },
      "outputs": [],
      "source": [
        "# token = \"HUGGING_FACE\"\n",
        "model = \"mistralai/Mistral-Nemo-Instruct-2407\""
      ]
    },
    {
      "cell_type": "markdown",
      "metadata": {
        "id": "D3aw60a2z6jF"
      },
      "source": [
        "# Prompting"
      ]
    },
    {
      "cell_type": "code",
      "execution_count": 36,
      "metadata": {
        "cellView": "code",
        "id": "e5KAeBjZz6jF"
      },
      "outputs": [],
      "source": [
        "def format_shap_prompt(customer_data, prediction, prediction_proba):\n",
        "    prompt = \"\"\n",
        "    risk_label = \"high risk\" if prediction == 1 else \"low risk\"\n",
        "    features_and_shap_values = \"\"\n",
        "\n",
        "    # Iterate through each feature in the SHAP data\n",
        "    for _, row in customer_data.iterrows():\n",
        "        feature = row[\"Feature\"]\n",
        "        feature_value = row[\"Feature Value\"]\n",
        "        shap_value = row[\"SHAP Value\"]\n",
        "\n",
        "        # Here we add the SHAP and feature information\n",
        "        if isinstance(feature_value, (int, float)):\n",
        "            features_and_shap_values += f\"- {feature}: {feature_value:.2f} (SHAP impact: {shap_value:.2f})\\n\"\n",
        "        else:\n",
        "            features_and_shap_values += f\"- {feature}: {feature_value} (SHAP impact: {shap_value:.2f})\\n\"\n",
        "\n",
        "    prompt = f\"\"\"\n",
        "You are a smart and helpful explainer and interpreter for a machine learning model that classifies customers as high or low risk regarding credit default.\n",
        "\n",
        "The customer in question has been classified as {risk_label} with a probability of {prediction_proba:.2f}.\n",
        "Below are the customer's features and their corresponding SHAP values:\n",
        "\n",
        "{features_and_shap_values}\n",
        "\n",
        "Instructions:\n",
        "1. Provide only the main reasons the customer was classified as {risk_label} by referencing the most impactful features and the respective reasons behind it.\n",
        "2. Do not include any disclaimers, contact information, or explanations of what SHAP values are. You should analyze the SHAP values in relation to the feature values and the connections between them, but the values themselves don't have to be mentioned in the reply.\n",
        "3. Write your answer without extra salutations, sign-offs and mentions of the SHAP values.\n",
        "4. Write your answer using bullet points for the features you want to mention.\n",
        "\n",
        "Take your time to thoroughly analyze the values and the connections. Note that the false flags for the status are because of the one hot encoding, meaning that the true flag was the one representative of the analyzed customer.\n",
        "Please explain the primary factors that led to this classification:\n",
        "\"\"\"\n",
        "\n",
        "    return prompt"
      ]
    },
    {
      "cell_type": "code",
      "source": [
        "prompt = f\"\"\"\n",
        "You are a smart and helpful explainer and interpreter for a machine learning model that explains Myocardial infarction complications.\n",
        "\n",
        "Given this features of the dataset, explain each of them briefly:\n",
        "ID,AGE,SEX,INF_ANAM,STENOK_AN,FK_STENOK,IBS_POST,IBS_NASL,GB,SIM_GIPERT,DLIT_AG,ZSN_A,nr_11,nr_01,nr_02,nr_03,nr_04,nr_07,nr_08,np_01,np_04,np_05,np_07,np_08,np_09,np_10,endocr_01,endocr_02,endocr_03,zab_leg_01,zab_leg_02,zab_leg_03,zab_leg_04,zab_leg_06,S_AD_KBRIG,D_AD_KBRIG,S_AD_ORIT,D_AD_ORIT,O_L_POST,K_SH_POST,MP_TP_POST,SVT_POST,GT_POST,FIB_G_POST,ant_im,lat_im,inf_im,post_im,IM_PG_P,ritm_ecg_p_01,ritm_ecg_p_02,ritm_ecg_p_04,ritm_ecg_p_06,ritm_ecg_p_07,ritm_ecg_p_08,n_r_ecg_p_01,n_r_ecg_p_02,n_r_ecg_p_03,n_r_ecg_p_04,n_r_ecg_p_05,n_r_ecg_p_06,n_r_ecg_p_08,n_r_ecg_p_09,n_r_ecg_p_10,n_p_ecg_p_01,n_p_ecg_p_03,n_p_ecg_p_04,n_p_ecg_p_05,n_p_ecg_p_06,n_p_ecg_p_07,n_p_ecg_p_08,n_p_ecg_p_09,n_p_ecg_p_10,n_p_ecg_p_11,n_p_ecg_p_12,fibr_ter_01,fibr_ter_02,fibr_ter_03,fibr_ter_05,fibr_ter_06,fibr_ter_07,fibr_ter_08,GIPO_K,K_BLOOD,GIPER_NA,NA_BLOOD,ALT_BLOOD,AST_BLOOD,KFK_BLOOD,L_BLOOD,ROE,TIME_B_S,R_AB_1_n,R_AB_2_n,R_AB_3_n,NA_KB,NOT_NA_KB,LID_KB,NITR_S,NA_R_1_n,NA_R_2_n,NA_R_3_n,NOT_NA_1_n,NOT_NA_2_n,NOT_NA_3_n,LID_S_n,B_BLOK_S_n,ANT_CA_S_n,GEPAR_S_n,ASP_S_n,TIKL_S_n,TRENT_S_n,FIBR_PREDS,PREDS_TAH,JELUD_TAH,FIBR_JELUD,A_V_BLOK,OTEK_LANC,RAZRIV,DRESSLER,ZSN,REC_IM,P_IM_STEN,LET_IS\n",
        "\"\"\""
      ],
      "metadata": {
        "id": "l7m-_CL34WRb"
      },
      "execution_count": 37,
      "outputs": []
    },
    {
      "cell_type": "code",
      "execution_count": 38,
      "metadata": {
        "id": "jW2zfwLTz6jF",
        "outputId": "a1303b34-5e82-45ee-98ef-d18c71588785",
        "colab": {
          "base_uri": "https://localhost:8080/"
        }
      },
      "outputs": [
        {
          "output_type": "stream",
          "name": "stdout",
          "text": [
            "Generated Response:\n",
            " Here are the explanations:\n",
            "\n",
            "1. **ID**: Unique identifier for each patient.\n",
            "2. **AGE**: Patient's age in years.\n",
            "3. **SEX**: Patient's sex (0 - Female, 1 - Male).\n",
            "4. **INF_ANAM**: History of previous myocardial infarction (0 - No, 1 - Yes).\n",
            "5. **STENOK_AN**: History of coronary artery disease (0 - No, 1 - Yes).\n",
            "6. **FK_STENOK**: Time since the last coronary artery disease diagnosis in years.\n",
            "7. **IBS_POST**: Post-infarction angina (0 - No, 1 - Yes).\n",
            "8. **IBS_NASL**: Nasal congestion (0 - No, 1 - Yes).\n",
            "9. **GB**: Body mass index (BMI) category (0 - Underweight, 1 - Normal, 2 - Overweight, 3 - Obese).\n",
            "10. **SIM_GIPERT**: History of hypertension (0 - No, 1 - Yes).\n",
            "11. **DLIT_AG**: Age at the onset of diabetes mellitus in years.\n",
            "12. **ZSN_A**: Smoking status (0 - Non-smoker, 1 - Smoker).\n",
            "13. **nr_01** to **nr_11**, **np_01** to **np_10**, **endocr_01** to **endocr_03**, **zab_leg_01** to **zab_leg_06**: These are binary features representing various medical conditions, symptoms, or treatments. The 'nr' prefix indicates 'no reaction', 'np' indicates 'negative reaction', 'endocr' indicates 'endocrine', 'zab_leg' indicates 'leg injury', and the suffixes denote specific conditions or treatments.\n",
            "14. **S_AD_KBRIG**, **D_AD_KBRIG**, **S_AD_ORIT**, **D_AD_ORIT**: These features represent the time (in days) from symptom onset to administration of various medications (KBRIG - clopidogrel, ORIT - aspirin).\n",
            "15. **O_L_POST**, **K_SH_POST**, **MP_TP_POST**, **SVT_POST**, **GT_POST**, **FIB_G_POST**: These are binary features indicating the presence of various complications post-myocardial infarction (O_L_POST - left ventricular overload, K_SH_POST - cardiogenic shock, etc.).\n",
            "16. **ant_im**, **lat_im**, **inf_im**, **post_im**: These features represent the time (in days) from symptom onset to the onset of various complications (ant_im - anterior myocardial infarction, lat_im - lateral myocardial infarction, etc.).\n",
            "17. **IM_PG_P**: This feature indicates the presence of post-infarction pericarditis (0 - No, 1 - Yes).\n",
            "18. **ritm_ecg_p_01** to **ritm_ecg_p_08**, **n_r_ecg_p_01** to **n_r_ecg_p_10**, **n_p_ecg_p_01** to **n_p_ecg_p_12**: These are binary features representing various rhythm and conduction abnormalities observed in the patient's ECG post-myocardial infarction.\n",
            "19. **fibr_ter_01** to **fibr_ter_08**: These are binary features indicating the presence of various types of ventricular tachycardia or fibrillation.\n",
            "20. **GIPO_K**, **K_BLOOD**, **GIPER_NA**, **NA_BLOOD**, **ALT_BLOOD**, **AST_BLOOD**, **KFK_BLOOD**, **L_BLOOD**, **ROE**: These features represent various blood test results, including potassium, sodium, glucose, liver enzymes, and red blood cell count.\n",
            "21. **TIME_B_S**: Time from symptom onset to hospital admission in hours.\n",
            "22. **R_AB_1_n** to **R_AB_3_n**, **NA_KB**, **NOT_NA_KB**, **LID_KB**, **NITR_S**, **NA_R_1_n** to **NA_R_3_n**, **NOT_NA_1_n** to **NOT_NA_3_n**, **LID_S_n**, **B_BLOK_S_n**, **ANT_CA_S_n**, **GEPAR_S_n**, **ASP_S_n**, **TIKL_S_n**, **TRENT_S_n**: These features represent various medications administered to the patient, including nitrates, beta-blockers, ACE inhibitors, and antiplatelet drugs.\n",
            "23. **FIBR_PREDS**, **PREDS_TAH**, **JELUD_TAH\n"
          ]
        }
      ],
      "source": [
        "# formatted_prompt = format_shap_prompt(\n",
        "#     customer_data,\n",
        "#     prediction=1,  # customer classified as high risk\n",
        "#     prediction_proba=0.85)\n",
        "\n",
        "# print(formatted_prompt)\n",
        "\n",
        "try:\n",
        "    response = llm(prompt, token, model)\n",
        "    print(\"Generated Response:\\n\", response)\n",
        "except Exception as e:\n",
        "    print(e)"
      ]
    },
    {
      "cell_type": "markdown",
      "source": [
        "# Using Groq"
      ],
      "metadata": {
        "id": "RZcchiQ7cBEs"
      }
    },
    {
      "cell_type": "code",
      "source": [
        "client = Groq(\n",
        "    # api_key=\"GROQ_API_KEY\"\n",
        ")\n",
        "\n",
        "chat_completion = client.chat.completions.create(\n",
        "    messages=[\n",
        "        {\n",
        "            \"role\": \"user\",\n",
        "            \"content\": prompt,\n",
        "        }\n",
        "    ],\n",
        "    model=\"llama-3.3-70b-versatile\",\n",
        ")\n",
        "\n",
        "print(chat_completion.choices[0].message.content)"
      ],
      "metadata": {
        "id": "powKnC-FcDtf",
        "outputId": "2d3421bf-6a76-4ed1-a74b-8bb1b149ebb9",
        "colab": {
          "base_uri": "https://localhost:8080/"
        }
      },
      "execution_count": 34,
      "outputs": [
        {
          "output_type": "stream",
          "name": "stdout",
          "text": [
            "This dataset appears to be related to Myocardial Infarction (MI), commonly known as a heart attack, and its complications. The features can be broadly categorized into several groups: patient demographics, medical history, clinical measurements, lab tests, medication, and post-MI complications. Here's a brief explanation of each feature:\n",
            "\n",
            "**Patient Demographics:**\n",
            "\n",
            "1. ID: Unique patient identifier\n",
            "2. AGE: Patient's age\n",
            "3. SEX: Patient's sex (male or female)\n",
            "\n",
            "**Medical History:**\n",
            "\n",
            "1. INF_ANAM: Anamnesis of infarction (previous heart attack)\n",
            "2. STENOK_AN: Anamnesis of stenocardia (chest pain)\n",
            "3. FK_STENOK: Frequency of stenocardia attacks\n",
            "4. IBS_POST: Post-infarction syndrome\n",
            "5. IBS_NASL: Family history of cardiovascular disease\n",
            "6. GB: History of hypertension\n",
            "7. SIM_GIPERT: Severe hypertension\n",
            "\n",
            "**Clinical Measurements:**\n",
            "\n",
            "1. DLIT_AG: Duration of angina pectoris (chest pain)\n",
            "2. ZSN_A: Presence of Zhdań arteriosclerosis (hardening of the arteries)\n",
            "3. nr_11 to nr_08: Unspecified clinical measurements ( possibly related to blood pressure, heart rate, or ECG)\n",
            "4. np_01 to np_10: Unspecified clinical measurements ( possibly related to blood pressure, heart rate, or ECG)\n",
            "\n",
            "**Lab Tests:**\n",
            "\n",
            "1. endocr_01 to endocr_03: Endocrine system tests (possibly related to thyroid or adrenal function)\n",
            "2. zab_leg_01 to zab_leg_06: Liver function tests\n",
            "3. S_AD_KBRIG: Serum creatinine level\n",
            "4. D_AD_KBRIG: Diastolic blood pressure\n",
            "5. S_AD_ORIT: Systolic blood pressure\n",
            "6. D_AD_ORIT: Diastolic blood pressure\n",
            "7. O_L_POST: Oxygen saturation\n",
            "8. K_SH_POST: Potassium level\n",
            "9. MP_TP_POST: Mean platelet volume\n",
            "10. SVT_POST: Serum troponin level\n",
            "11. GT_POST: Gamma-glutamyl transferase level\n",
            "12. FIB_G_POST: Fibrinogen level\n",
            "13. ant_im: Antithrombin level\n",
            "14. lat_im: Lactate dehydrogenase level\n",
            "15. inf_im: Inflammation markers (e.g., CRP)\n",
            "16. post_im: Post-infarction inflammation markers\n",
            "\n",
            "**Medication:**\n",
            "\n",
            "1. IM_PG_P: Intramuscular injection of pain medication\n",
            "2. ritm_ecg_p_01 to ritm_ecg_p_08: Rhythm ECG measurements ( possibly related to cardiac arrhythmias)\n",
            "3. n_r_ecg_p_01 to n_r_ecg_p_10: Unspecified ECG measurements\n",
            "4. n_p_ecg_p_01 to n_p_ecg_p_12: Unspecified ECG measurements\n",
            "5. fibr_ter_01 to fibr_ter_08: Fibrinolytic therapy (medication to dissolve blood clots)\n",
            "\n",
            "**Cardiovascular Complications:**\n",
            "\n",
            "1. GIPO_K: Cardiac arrhythmia (heart rhythm disorder)\n",
            "2. K_BLOOD: Coronary blood flow\n",
            "3. GIPER_NA: Hypertension\n",
            "4. NA_BLOOD: Sodium level in blood\n",
            "5. ALT_BLOOD: Alanine transaminase level (liver enzyme)\n",
            "6. AST_BLOOD: Aspartate transaminase level (liver enzyme)\n",
            "7. KFK_BLOOD: Creatine kinase level (muscle enzyme)\n",
            "8. L_BLOOD: Leukocyte count (white blood cell count)\n",
            "9. ROE: Erythrocyte sedimentation rate (inflammation marker)\n",
            "10. TIME_B_S: Time from symptom onset to blood sampling\n",
            "11. R_AB_1_n to R_AB_3_n: Unspecified medication or treatment\n",
            "12. NA_KB: Sodium level in urine\n",
            "13. NOT_NA_KB: Unspecified medication or treatment\n",
            "14. LID_KB: Lidocaine level (anti-arrhythmic medication)\n",
            "15. NITR_S: Nitrate level (medication for angina)\n",
            "16. NA_R_1_n to NA_R_3_n: Unspecified medication or treatment\n",
            "17. NOT_NA_1_n to NOT_NA_3_n: Unspecified medication or treatment\n",
            "18. LID_S_n: Lidocaine level (anti-arrhythmic medication)\n",
            "19. B_BLOK_S_n: Beta-blocker level (medication for hypertension and heart failure)\n",
            "20. ANT_CA_S_n: Anti-coagulant level (medication to prevent blood clots)\n",
            "21. GEPAR_S_n: Unspecified medication or treatment\n",
            "22. ASP_S_n: Aspirin level (anti-platelet medication)\n",
            "23. TIKL_S_n: Ticlopidine level (anti-platelet medication)\n",
            "24. TRENT_S_n: Unspecified medication or treatment\n",
            "25. FIBR_PREDS: Fibrinolytic predictors ( markers for fibrinolysis)\n",
            "26. PREDS_TAH: Predictors of thrombosis ( markers for blood clot formation)\n",
            "27. JELUD_TAH: Unspecified medication or treatment\n",
            "28. FIBR_JELUD: Fibrinolytic therapy (medication to dissolve blood clots)\n",
            "29. A_V_BLOK: AV block (heart conduction disorder)\n",
            "30. OTEK_LANC: Edema (swelling) of the lower limbs\n",
            "31. RAZRIV: Rupture of the heart muscle\n",
            "32. DRESSLER: Dressler syndrome (inflammation of the pericardium)\n",
            "33. ZSN: Zhdań arteriosclerosis (hardening of the arteries)\n",
            "34. REC_IM: Recurrence of myocardial infarction\n",
            "35. P_IM_STEN: Post-infarction stenosis (narrowing of the coronary arteries)\n",
            "36. LET_IS: Unspecified cardiovascular complication\n",
            "\n",
            "Note: Some of the feature names are in a non-English language, possibly Russian, and their translations have been provided based on general knowledge and medical terminology. The exact meaning and context of these features might require more specific information or expertise in cardiology.\n"
          ]
        }
      ]
    }
  ],
  "metadata": {
    "kernelspec": {
      "display_name": "ilm_p3_12",
      "language": "python",
      "name": "python3"
    },
    "language_info": {
      "codemirror_mode": {
        "name": "ipython",
        "version": 3
      },
      "file_extension": ".py",
      "mimetype": "text/x-python",
      "name": "python",
      "nbconvert_exporter": "python",
      "pygments_lexer": "ipython3",
      "version": "3.12.7"
    },
    "colab": {
      "provenance": [],
      "include_colab_link": true
    }
  },
  "nbformat": 4,
  "nbformat_minor": 0
}