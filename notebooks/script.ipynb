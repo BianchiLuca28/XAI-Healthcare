{
 "cells": [
  {
   "cell_type": "markdown",
   "metadata": {},
   "source": [
    "Script that will transform the descriptions file to a csv file."
   ]
  },
  {
   "cell_type": "code",
   "execution_count": 1,
   "metadata": {},
   "outputs": [],
   "source": [
    "import pandas as pd\n",
    "import re"
   ]
  },
  {
   "cell_type": "code",
   "execution_count": 2,
   "metadata": {},
   "outputs": [],
   "source": [
    "def parse_metadata(file_path: str) -> pd.DataFrame:\n",
    "    \"\"\"\n",
    "    Parses a metadata text file of the form:\n",
    "\n",
    "        1. Description (multiple parentheses) (COLUMN_NAME):\n",
    "        0 – no\n",
    "        1 – yes\n",
    "\n",
    "    Produces a DataFrame with columns: [\"Name\", \"Description\", \"Possible Values\"].\n",
    "    If no enumerated values are found for an item, we assign Possible Values = \"Continuous\".\n",
    "    \"\"\"\n",
    "\n",
    "    with open(file_path, 'r', encoding='utf-8') as file:\n",
    "        lines = file.readlines()\n",
    "\n",
    "    data = []\n",
    "    current_name = None\n",
    "    current_description = None\n",
    "    current_possible_values = {}\n",
    "\n",
    "    for line in lines:\n",
    "        line = line.strip()\n",
    "        # Skip empty lines\n",
    "        if not line:\n",
    "            continue\n",
    "\n",
    "        # 1) Check if this line defines a new item, e.g. \"13. Some text (column_name):\"\n",
    "        #    We match: <number>. <anything>\n",
    "        item_match = re.match(r\"^(\\d+)\\.\\s*(.*)$\", line)\n",
    "        if item_match:\n",
    "            # If we had a previous item, save it before starting a new one\n",
    "            if current_name is not None:\n",
    "                # If no enumerated values found, call it Continuous\n",
    "                if len(current_possible_values) == 0:\n",
    "                    final_values = \"Continuous\"\n",
    "                else:\n",
    "                    final_values = current_possible_values\n",
    "                data.append((current_name, current_description, final_values))\n",
    "\n",
    "            # Start parsing a new item\n",
    "            remainder = item_match.group(2)\n",
    "\n",
    "            # Find the *last* set of parentheses for the name\n",
    "            last_open_idx = remainder.rfind('(')\n",
    "            last_close_idx = remainder.rfind(')')\n",
    "\n",
    "            # Reset possible values\n",
    "            current_possible_values = {}\n",
    "\n",
    "            if last_open_idx != -1 and last_close_idx != -1 and last_close_idx > last_open_idx:\n",
    "                # The name is what's inside the last (...)\n",
    "                current_name = remainder[last_open_idx + 1 : last_close_idx].strip()\n",
    "                # The description is everything before that\n",
    "                current_description = remainder[:last_open_idx].strip()\n",
    "                # Remove trailing punctuation (colon, period, etc.)\n",
    "                current_description = current_description.rstrip(':').rstrip('.')\n",
    "            else:\n",
    "                # Fallback if we can't parse parentheses properly\n",
    "                current_name = None\n",
    "                current_description = remainder\n",
    "\n",
    "        # 2) Check if this line is an enumerated possible value: e.g. \"0 – No\"\n",
    "        elif re.match(r\"^\\d+\\s*[–-]\\s*\", line):\n",
    "            key_value = None\n",
    "            # First try splitting by '–'\n",
    "            key_value = line.split('–', 1)\n",
    "            # If not found, try splitting by '-'\n",
    "            if len(key_value) < 2:\n",
    "                key_value = line.split('-', 1)\n",
    "\n",
    "            if len(key_value) == 2:\n",
    "                key_str = key_value[0].strip()\n",
    "                val_str = key_value[1].strip()\n",
    "                # Try converting key to int\n",
    "                try:\n",
    "                    key_int = int(key_str)\n",
    "                    current_possible_values[key_int] = val_str\n",
    "                except ValueError:\n",
    "                    # If not integer, store as string\n",
    "                    current_possible_values[key_str] = val_str\n",
    "        else:\n",
    "            # For lines that do not match a new item or enumerated value,\n",
    "            # we ignore them, or you could handle them if you wish.\n",
    "            pass\n",
    "\n",
    "    # After the loop, save the final item if one is in progress\n",
    "    if current_name is not None:\n",
    "        if len(current_possible_values) == 0:\n",
    "            final_values = \"Continuous\"\n",
    "        else:\n",
    "            final_values = current_possible_values\n",
    "        data.append((current_name, current_description, final_values))\n",
    "\n",
    "    # Convert to DataFrame\n",
    "    df = pd.DataFrame(data, columns=[\"name\", \"description\", \"possible_values\"])\n",
    "    return df\n",
    "\n"
   ]
  },
  {
   "cell_type": "code",
   "execution_count": 3,
   "metadata": {},
   "outputs": [],
   "source": [
    "file_path = \"../database/descriptions.txt\""
   ]
  },
  {
   "cell_type": "code",
   "execution_count": 4,
   "metadata": {},
   "outputs": [],
   "source": [
    "df_metadata = parse_metadata(file_path)"
   ]
  },
  {
   "cell_type": "code",
   "execution_count": null,
   "metadata": {},
   "outputs": [],
   "source": [
    "df_metadata.to_csv(\"../database/feature_descriptions.csv\", index=False)"
   ]
  }
 ],
 "metadata": {
  "kernelspec": {
   "display_name": "xai-healthcare",
   "language": "python",
   "name": "python3"
  },
  "language_info": {
   "codemirror_mode": {
    "name": "ipython",
    "version": 3
   },
   "file_extension": ".py",
   "mimetype": "text/x-python",
   "name": "python",
   "nbconvert_exporter": "python",
   "pygments_lexer": "ipython3",
   "version": "3.11.0"
  }
 },
 "nbformat": 4,
 "nbformat_minor": 2
}
